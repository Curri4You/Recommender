{
 "cells": [
  {
   "cell_type": "code",
   "execution_count": 60,
   "metadata": {},
   "outputs": [],
   "source": [
    "import numpy as np \n",
    "import pandas as pd\n",
    "import torch"
   ]
  },
  {
   "cell_type": "code",
   "execution_count": 61,
   "metadata": {},
   "outputs": [],
   "source": [
    "cv=torch.load('dataset/course_nm_tensor.pt')"
   ]
  },
  {
   "cell_type": "code",
   "execution_count": 62,
   "metadata": {},
   "outputs": [
    {
     "data": {
      "text/plain": [
       "array([[ 0.00144092, -0.01703043,  0.00412345, ...,  0.0865251 ,\n",
       "        -0.05929217,  0.00758869],\n",
       "       [-0.00358773, -0.01746405, -0.12736031, ...,  0.02512024,\n",
       "        -0.01919973,  0.01910394],\n",
       "       [-0.00345605, -0.03809951, -0.0692881 , ...,  0.03877716,\n",
       "        -0.03475577, -0.03682799],\n",
       "       [ 0.0022921 , -0.07450938, -0.00588197, ...,  0.00472871,\n",
       "        -0.03109727, -0.00817915]], dtype=float32)"
      ]
     },
     "execution_count": 62,
     "metadata": {},
     "output_type": "execute_result"
    }
   ],
   "source": [
    "cvnpy=cv.detach().numpy()\n",
    "cvnpy[:4]"
   ]
  },
  {
   "cell_type": "code",
   "execution_count": 63,
   "metadata": {},
   "outputs": [],
   "source": [
    "#group by whether it is 전공 \n",
    "#같은 전공 내에서 진행\n",
    "\n",
    "curridb=pd.read_csv('original_data/curriculumDB.txt')\n",
    "coursedb=pd.read_csv('original_data/courseDB.txt')\n",
    "ccdb=pd.read_csv('original_data/curri_courseDB.txt')"
   ]
  },
  {
   "cell_type": "code",
   "execution_count": 64,
   "metadata": {},
   "outputs": [
    {
     "data": {
      "text/html": [
       "<div>\n",
       "<style scoped>\n",
       "    .dataframe tbody tr th:only-of-type {\n",
       "        vertical-align: middle;\n",
       "    }\n",
       "\n",
       "    .dataframe tbody tr th {\n",
       "        vertical-align: top;\n",
       "    }\n",
       "\n",
       "    .dataframe thead th {\n",
       "        text-align: right;\n",
       "    }\n",
       "</style>\n",
       "<table border=\"1\" class=\"dataframe\">\n",
       "  <thead>\n",
       "    <tr style=\"text-align: right;\">\n",
       "      <th></th>\n",
       "      <th>curr_id</th>\n",
       "      <th>the_year</th>\n",
       "      <th>subject_name</th>\n",
       "      <th>major_division</th>\n",
       "      <th>elec_num</th>\n",
       "      <th>ge_info</th>\n",
       "    </tr>\n",
       "  </thead>\n",
       "  <tbody>\n",
       "    <tr>\n",
       "      <th>0</th>\n",
       "      <td>628b75c1920a8302ce7ea449535834a877720b79499426...</td>\n",
       "      <td>2019</td>\n",
       "      <td>건축도시시스템공학</td>\n",
       "      <td>1</td>\n",
       "      <td>138</td>\n",
       "      <td>10</td>\n",
       "    </tr>\n",
       "    <tr>\n",
       "      <th>1</th>\n",
       "      <td>e3e972226e56ed375c91a5f95e8c7f098e7bd3bfbac3e9...</td>\n",
       "      <td>2019</td>\n",
       "      <td>건축학</td>\n",
       "      <td>1</td>\n",
       "      <td>148</td>\n",
       "      <td>10</td>\n",
       "    </tr>\n",
       "    <tr>\n",
       "      <th>2</th>\n",
       "      <td>2ec8f0ea892df31db7f724bb6f5905e5a32a524ee7d33f...</td>\n",
       "      <td>2019</td>\n",
       "      <td>기후·에너지시스템공학</td>\n",
       "      <td>1</td>\n",
       "      <td>138</td>\n",
       "      <td>10</td>\n",
       "    </tr>\n",
       "    <tr>\n",
       "      <th>3</th>\n",
       "      <td>b4a6f11c5c2fdf083a2cc098db210bd7a91c1357a1164e...</td>\n",
       "      <td>2019</td>\n",
       "      <td>사이버보안</td>\n",
       "      <td>1</td>\n",
       "      <td>139</td>\n",
       "      <td>10</td>\n",
       "    </tr>\n",
       "    <tr>\n",
       "      <th>4</th>\n",
       "      <td>07902b1e387b5dcdd2ae8d9929576ac23aacd48c628d3a...</td>\n",
       "      <td>2019</td>\n",
       "      <td>식품공학</td>\n",
       "      <td>1</td>\n",
       "      <td>138</td>\n",
       "      <td>10</td>\n",
       "    </tr>\n",
       "  </tbody>\n",
       "</table>\n",
       "</div>"
      ],
      "text/plain": [
       "                                             curr_id  the_year  subject_name  \\\n",
       "0  628b75c1920a8302ce7ea449535834a877720b79499426...      2019     건축도시시스템공학   \n",
       "1  e3e972226e56ed375c91a5f95e8c7f098e7bd3bfbac3e9...      2019           건축학   \n",
       "2  2ec8f0ea892df31db7f724bb6f5905e5a32a524ee7d33f...      2019   기후·에너지시스템공학   \n",
       "3  b4a6f11c5c2fdf083a2cc098db210bd7a91c1357a1164e...      2019         사이버보안   \n",
       "4  07902b1e387b5dcdd2ae8d9929576ac23aacd48c628d3a...      2019          식품공학   \n",
       "\n",
       "   major_division  elec_num  ge_info  \n",
       "0               1       138       10  \n",
       "1               1       148       10  \n",
       "2               1       138       10  \n",
       "3               1       139       10  \n",
       "4               1       138       10  "
      ]
     },
     "execution_count": 64,
     "metadata": {},
     "output_type": "execute_result"
    }
   ],
   "source": [
    "curridb.head(5)"
   ]
  },
  {
   "cell_type": "code",
   "execution_count": 65,
   "metadata": {},
   "outputs": [
    {
     "data": {
      "text/plain": [
       "True"
      ]
     },
     "execution_count": 65,
     "metadata": {},
     "output_type": "execute_result"
    }
   ],
   "source": [
    "type(curridb.loc[0,'the_year'])\n",
    "curridb.loc[0,'the_year']==2019\n",
    "curridb.loc[3,'subject_name'].strip()=='사이버보안'\n",
    "#print(curridb.loc[3,'subject_name'])"
   ]
  },
  {
   "cell_type": "code",
   "execution_count": 66,
   "metadata": {},
   "outputs": [
    {
     "data": {
      "text/plain": [
       "3    b4a6f11c5c2fdf083a2cc098db210bd7a91c1357a1164e...\n",
       "Name: curr_id, dtype: object"
      ]
     },
     "execution_count": 66,
     "metadata": {},
     "output_type": "execute_result"
    }
   ],
   "source": [
    "#subject_name, the_year정보를 바탕으로 구한다\n",
    "subject_name='사이버보안'\n",
    "the_year=2019\n",
    "\n",
    "curr_id=curridb[(curridb['the_year']==the_year) & (curridb['subject_name'].apply(str.strip)==subject_name)]['curr_id']\n",
    "curr_id"
   ]
  },
  {
   "cell_type": "code",
   "execution_count": 67,
   "metadata": {},
   "outputs": [
    {
     "data": {
      "text/plain": [
       "'b4a6f11c5c2fdf083a2cc098db210bd7a91c1357a1164e01abae4e28d845b21a'"
      ]
     },
     "execution_count": 67,
     "metadata": {},
     "output_type": "execute_result"
    }
   ],
   "source": [
    "ccdb.head(5)\n",
    "type(ccdb['curr_id'].values)\n",
    "\n",
    "np.array(ccdb.loc[0,'curr_id'])\n",
    "str(curr_id.values[0])"
   ]
  },
  {
   "cell_type": "code",
   "execution_count": 69,
   "metadata": {},
   "outputs": [
    {
     "data": {
      "text/plain": [
       "(1035, 768)"
      ]
     },
     "execution_count": 69,
     "metadata": {},
     "output_type": "execute_result"
    }
   ],
   "source": [
    "cvnpy.shape"
   ]
  },
  {
   "cell_type": "code",
   "execution_count": 78,
   "metadata": {},
   "outputs": [
    {
     "data": {
      "text/plain": [
       "(array([1.        , 0.39910215]), ['1938', '1938'], ['standard', 'standard'])"
      ]
     },
     "execution_count": 78,
     "metadata": {},
     "output_type": "execute_result"
    }
   ],
   "source": [
    "from sklearn.metrics.pairwise import cosine_similarity\n",
    "class Node:\n",
    "    def __init__(self,course_id,standard,curr_id,course_vec):\n",
    "        self.course_id=course_id \n",
    "        self.standard=standard \n",
    "        self.curr_id=curr_id \n",
    "        self.course_vec=course_vec\n",
    "\n",
    "class RankMatrix:\n",
    "    def __init__(self,nodes):\n",
    "        self.nodes=nodes\n",
    "        self.similarity_matrix=None\n",
    "        self.run_cosine_similarity() \n",
    "        \n",
    "    def run_cosine_similarity(self):\n",
    "        course_vec=[node.course_vec for node in self.nodes] \n",
    "        self.similarity_matrix=cosine_similarity(course_vec,course_vec)\n",
    "        \n",
    "    def retrieve_similarity(self,course_id):\n",
    "        course_ids=[i.course_id for i in self.nodes]\n",
    "        course_standards=[i.standard for i in self.nodes]\n",
    "        index_course=course_ids.index(course_id)\n",
    "        return self.similarity_matrix[index_course],course_ids,course_standards\n",
    "    \n",
    "    \n",
    "    def retrieve_top_10(self,course_ids,filter=''):\n",
    "        #make it a node \n",
    "        def create_rank_node(course_id,sim,ccourse_id,stds):#ccourse_id는 비교 대상, course_id는 이번에 비교되는 애임 sim은 둘 사이 유사도임\n",
    "            return {'course_id':course_id,'sim':sim,'ccourse_id':ccourse_id,'stds':stds}\n",
    "        \n",
    "        sim_list=[]\n",
    "        for course in course_ids:\n",
    "            sims,ids,stds=self.retrieve_similarity(course)\n",
    "            for similarity,cid,std in zip(sims,ids,stds):\n",
    "                if course==cid:\n",
    "                    continue\n",
    "                sim_list.append(create_rank_node(cid,similarity,course,std))\n",
    "        \n",
    "        result=merge_sort(sim_list)\n",
    "\n",
    "        if filter=='전공':\n",
    "            for node in result:\n",
    "                if node['stds'].find('전공')==-1:#없으면\n",
    "                    result.pop(result.index(node))\n",
    "        elif filter=='융복합':\n",
    "            for node in result:\n",
    "                if node['stds'].find('융복합')==-1:#없으면\n",
    "                    result.pop(result.index(node))\n",
    "        else:\n",
    "            for node in result:\n",
    "                if node['stds'].find('전공')!=-1:#있으면\n",
    "                    result.pop(result.index(node))\n",
    "                if node['stds'].find('융복합')!=-1:#있으면\n",
    "                    result.pop(result.index(node))\n",
    "        return result[-10:]\n",
    "    \n",
    "r=RankMatrix([Node('1938','standard','dkfjsl',vec) for vec in np_1])\n",
    "r.retrieve_similarity('1938')"
   ]
  },
  {
   "cell_type": "code",
   "execution_count": 71,
   "metadata": {},
   "outputs": [],
   "source": [
    "def merge(left, right):\n",
    "    if len(left) == 0:\n",
    "        return right\n",
    "\n",
    "    if len(right) == 0:\n",
    "        return left\n",
    "\n",
    "    result = []\n",
    "    index_left = index_right = 0\n",
    "\n",
    "    while len(result) < len(left) + len(right):\n",
    "        \n",
    "        if left[index_left]['sim'] <= right[index_right]['sim']:\n",
    "            result.append(left[index_left])\n",
    "            index_left += 1\n",
    "        else:\n",
    "            result.append(right[index_right])\n",
    "            index_right += 1\n",
    "\n",
    "        # If you reach the end of either array, then you can\n",
    "        # add the remaining elements from the other array to\n",
    "        # the result and break the loop\n",
    "        if index_right == len(right):\n",
    "            result += left[index_left:]\n",
    "            break\n",
    "\n",
    "        if index_left == len(left):\n",
    "            result += right[index_right:]\n",
    "            break\n",
    "\n",
    "    return result\n",
    "def merge_sort(array):\n",
    "    \n",
    "    if len(array) < 2:\n",
    "        return array\n",
    "\n",
    "    midpoint = len(array) // 2\n",
    "    \n",
    "    return merge(\n",
    "        left=merge_sort(array[:midpoint]),\n",
    "        right=merge_sort(array[midpoint:]))"
   ]
  },
  {
   "cell_type": "code",
   "execution_count": 72,
   "metadata": {},
   "outputs": [],
   "source": [
    "#currid를 바탕으로 사용자의 전공과목을 구한다 \n",
    "#cold start \n",
    "#사용자의 전공과목과 전부 인접행렬을 만들고 \n",
    "#해당 과목 인접행렬에서 가장 높은 것 N개를 구함\n",
    "\n",
    "\n",
    "all_c=ccdb[ccdb['curr_id']==str(curr_id.values[0])]['course_id'].values\n",
    "\n",
    "#종류 식별\n",
    "st_cDB=pd.read_csv('original_data/standard_courseDB.txt')\n",
    "\n",
    "#모든 학수번호마다 종류 파악\n",
    "node_list=[] #하나의 교과과정표에 있는 과목의 리스트이다.\n",
    "course_list=list(coursedb['course_id'])\n",
    "for c in all_c:\n",
    "    st_cDB_curr=st_cDB[st_cDB['curr_id']==str(curr_id.values[0])] #사용자의 교과과정표 내 수업에 대해\n",
    "    st_cDB_cc=st_cDB_curr[st_cDB_curr['course_id']==c ]['standard_name'].values[0] #standard이름 파악\n",
    "    index=course_list.index(c)#courseDB내 위치 파악해서 벡터와 연결\n",
    "    node_list.append(Node(c,st_cDB_cc,str(curr_id.values[0]),cvnpy[index]))#course_id, standard, vector 로 된 노드를 만듦 "
   ]
  },
  {
   "cell_type": "markdown",
   "metadata": {},
   "source": [
    "## test: 그냥 아무 노드 10개를 가지고 시도 "
   ]
  },
  {
   "cell_type": "code",
   "execution_count": 73,
   "metadata": {},
   "outputs": [
    {
     "data": {
      "text/plain": [
       "'11033'"
      ]
     },
     "execution_count": 73,
     "metadata": {},
     "output_type": "execute_result"
    }
   ],
   "source": [
    "node_list[10].course_id"
   ]
  },
  {
   "cell_type": "code",
   "execution_count": 74,
   "metadata": {},
   "outputs": [
    {
     "data": {
      "text/plain": [
       "[{'course_id': '10776', 'sim': 0.9871884, 'ccourse_id': '11256'},\n",
       " {'course_id': '38919', 'sim': 0.9873543, 'ccourse_id': '11256'},\n",
       " {'course_id': '11211', 'sim': 0.9876052, 'ccourse_id': '11095'},\n",
       " {'course_id': '11083', 'sim': 0.98782355, 'ccourse_id': '11074'},\n",
       " {'course_id': '11287', 'sim': 0.9882017, 'ccourse_id': '11254'},\n",
       " {'course_id': '11065', 'sim': 0.9884581, 'ccourse_id': '10023'},\n",
       " {'course_id': '11065', 'sim': 0.98846877, 'ccourse_id': '11095'},\n",
       " {'course_id': '10559', 'sim': 0.9890709, 'ccourse_id': '11254'},\n",
       " {'course_id': '11385', 'sim': 0.9911164, 'ccourse_id': '11254'},\n",
       " {'course_id': '10776', 'sim': 0.99141276, 'ccourse_id': '11254'}]"
      ]
     },
     "execution_count": 74,
     "metadata": {},
     "output_type": "execute_result"
    }
   ],
   "source": [
    "r=RankMatrix(node_list)\n",
    "r.retrieve_top_10([i.course_id for i in node_list[:10]])"
   ]
  },
  {
   "cell_type": "markdown",
   "metadata": {},
   "source": [
    "## st_cDB를 가지고 이제 종류별로 가져오기"
   ]
  },
  {
   "cell_type": "code",
   "execution_count": 76,
   "metadata": {},
   "outputs": [],
   "source": [
    "j=[]\n",
    "y=[]\n",
    "g=[]\n",
    "for node in node_list:\n",
    "    if node.standard.find('전공')!=-1:\n",
    "        j.append(node.course_id)\n",
    "    elif node.standard.find('융복합')!=-1:\n",
    "        y.append(node.course_id)\n",
    "    else:\n",
    "        g.append(node.course_id)"
   ]
  },
  {
   "cell_type": "code",
   "execution_count": 79,
   "metadata": {},
   "outputs": [
    {
     "data": {
      "text/plain": [
       "[{'course_id': '10776',\n",
       "  'sim': 0.99141276,\n",
       "  'ccourse_id': '11254',\n",
       "  'stds': '큐브(콘텐츠)'},\n",
       " {'course_id': '11254',\n",
       "  'sim': 0.99141276,\n",
       "  'ccourse_id': '10776',\n",
       "  'stds': '나눔리더십 외'},\n",
       " {'course_id': '10776',\n",
       "  'sim': 0.9925674,\n",
       "  'ccourse_id': '11385',\n",
       "  'stds': '큐브(콘텐츠)'},\n",
       " {'course_id': '11385',\n",
       "  'sim': 0.9925674,\n",
       "  'ccourse_id': '10776',\n",
       "  'stds': '융합기초'},\n",
       " {'course_id': '11067',\n",
       "  'sim': 0.9933573,\n",
       "  'ccourse_id': '11092',\n",
       "  'stds': '스페인어'},\n",
       " {'course_id': '11092',\n",
       "  'sim': 0.9933573,\n",
       "  'ccourse_id': '11067',\n",
       "  'stds': '일본어'},\n",
       " {'course_id': '10072',\n",
       "  'sim': 0.99346644,\n",
       "  'ccourse_id': '11164',\n",
       "  'stds': '큐브(디자인)'},\n",
       " {'course_id': '11164',\n",
       "  'sim': 0.99346644,\n",
       "  'ccourse_id': '10072',\n",
       "  'stds': '큐브(콘텐츠)'},\n",
       " {'course_id': '11287',\n",
       "  'sim': 0.99483895,\n",
       "  'ccourse_id': '11288',\n",
       "  'stds': '큐브(콘텐츠)'},\n",
       " {'course_id': '11288',\n",
       "  'sim': 0.99483895,\n",
       "  'ccourse_id': '11287',\n",
       "  'stds': '큐브(콘텐츠)'}]"
      ]
     },
     "execution_count": 79,
     "metadata": {},
     "output_type": "execute_result"
    }
   ],
   "source": [
    "#전공, 융복합, 교양에 대해 각각 10개만 뽑는 코드 짜기 \n",
    "r=RankMatrix(node_list)\n",
    "\n",
    "rcj=r.retrieve_top_10(j,filter='전공')\n",
    "rcy=r.retrieve_top_10(y,filter='융복합')\n",
    "rcg=r.retrieve_top_10(g,filter='교양')\n",
    "rcg"
   ]
  },
  {
   "cell_type": "code",
   "execution_count": null,
   "metadata": {},
   "outputs": [],
   "source": [
    "#DB에 넣기"
   ]
  },
  {
   "cell_type": "markdown",
   "metadata": {},
   "source": [
    "# 여러개 전공에 대해서 추천하기"
   ]
  },
  {
   "cell_type": "code",
   "execution_count": null,
   "metadata": {},
   "outputs": [],
   "source": [
    "class Recommender:\n",
    "    def __init__(self,subjects):\n",
    "        self.subjects=subjects \n",
    "        self.get_curr_of_subjects()\n",
    "    def get_curri_of_subjects(self):\n",
    "        for subject in self.subjects:\n",
    "            \n",
    "    def merge_curri_into_node_list(self):\n",
    "        pass\n",
    "    def recommend(self):\n",
    "        return rcj,rcy,rcg"
   ]
  }
 ],
 "metadata": {
  "kernelspec": {
   "display_name": "Python 3.9.6 64-bit",
   "language": "python",
   "name": "python3"
  },
  "language_info": {
   "codemirror_mode": {
    "name": "ipython",
    "version": 3
   },
   "file_extension": ".py",
   "mimetype": "text/x-python",
   "name": "python",
   "nbconvert_exporter": "python",
   "pygments_lexer": "ipython3",
   "version": "3.9.6"
  },
  "orig_nbformat": 4,
  "vscode": {
   "interpreter": {
    "hash": "b485adf93bff8ca269d5493edbedeaa1a759650bfde9cbea36fd7f7b559c92d8"
   }
  }
 },
 "nbformat": 4,
 "nbformat_minor": 2
}
